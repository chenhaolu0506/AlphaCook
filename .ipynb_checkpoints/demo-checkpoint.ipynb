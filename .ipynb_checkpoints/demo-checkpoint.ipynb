{
 "cells": [
  {
   "cell_type": "code",
   "execution_count": 108,
   "id": "e274fdcc",
   "metadata": {},
   "outputs": [],
   "source": [
    "import json\n",
    "import os\n",
    "import pandas as pd\n",
    "import numpy as np\n",
    "import collections\n",
    "import re"
   ]
  },
  {
   "cell_type": "code",
   "execution_count": 9,
   "id": "223ac6c8",
   "metadata": {},
   "outputs": [],
   "source": [
    "root_path = './YouCookII/'\n",
    "anno_path = root_path + \"annotations/youcookii_annotations_trainval.json\"\n",
    "feat_path = root_path + 'features/feat_csv/'\n",
    "\n",
    "feat_path_keywords = {'train': 'train_frame_feat_csv', 'val': 'val_frame_feat_csv', 'test': 'test_frame_feat_csv'}"
   ]
  },
  {
   "cell_type": "code",
   "execution_count": 7,
   "id": "1cf7b034",
   "metadata": {},
   "outputs": [],
   "source": [
    "f = open(anno_path, 'rb')\n",
    "anno_dict = json.load(f)"
   ]
  },
  {
   "cell_type": "code",
   "execution_count": 24,
   "id": "f82592f6",
   "metadata": {},
   "outputs": [],
   "source": [
    "food_types = pd.read_csv(root_path + 'label_foodtype.csv', header=None)\n",
    "idx, types = food_types[0], food_types[1]\n",
    "idx2type = {i: t for i, t in zip(idx, types)}"
   ]
  },
  {
   "cell_type": "code",
   "execution_count": 44,
   "id": "22a28a51",
   "metadata": {},
   "outputs": [],
   "source": [
    "demo_dir = feat_path + feat_path_keywords['train'] + '/101'\n",
    "feat = pd.read_csv(demo_dir + '/0O4bxhpFX9o/0001/resnet_34_feat_mscoco.csv', header=None)"
   ]
  },
  {
   "cell_type": "code",
   "execution_count": 57,
   "id": "8afbe349",
   "metadata": {},
   "outputs": [
    {
     "data": {
      "text/plain": [
       "{'duration': 311.77,\n",
       " 'subset': 'training',\n",
       " 'recipe_type': '101',\n",
       " 'annotations': [{'segment': [41, 54],\n",
       "   'id': 0,\n",
       "   'sentence': 'place the bacon slices on a baking pan and cook them in an oven'},\n",
       "  {'segment': [84, 122],\n",
       "   'id': 1,\n",
       "   'sentence': 'cut the tomatoes into thin slices'},\n",
       "  {'segment': [130, 135],\n",
       "   'id': 2,\n",
       "   'sentence': 'toast the bread slices in the toaster'},\n",
       "  {'segment': [147, 190],\n",
       "   'id': 3,\n",
       "   'sentence': 'spread mayonnaise on the bread and place bacon slices lettuce and tomato slices on top'},\n",
       "  {'segment': [192, 195], 'id': 4, 'sentence': 'top the sandwich with bread'}],\n",
       " 'video_url': 'https://www.youtube.com/watch?v=0O4bxhpFX9o'}"
      ]
     },
     "execution_count": 57,
     "metadata": {},
     "output_type": "execute_result"
    }
   ],
   "source": [
    "anno_dict['database']['0O4bxhpFX9o']"
   ]
  },
  {
   "cell_type": "code",
   "execution_count": 89,
   "id": "f58741a2",
   "metadata": {
    "scrolled": true
   },
   "outputs": [],
   "source": [
    "all_vid_names = os.listdir(demo_dir)\n",
    "vid2cap = {}"
   ]
  },
  {
   "cell_type": "code",
   "execution_count": 90,
   "id": "c5db211f",
   "metadata": {},
   "outputs": [],
   "source": [
    "all_frames = []\n",
    "all_caps = []"
   ]
  },
  {
   "cell_type": "code",
   "execution_count": 91,
   "id": "f9b55370",
   "metadata": {},
   "outputs": [],
   "source": [
    "for vid in all_vid_names:\n",
    "    vid2cap[vid] = {'frames':[], 'cap':[]}\n",
    "    if vid == '.DS_Store':\n",
    "        continue\n",
    "    vid_feat = pd.read_csv(demo_dir + '/' + vid + '/0001/resnet_34_feat_mscoco.csv', header=None)\n",
    "    vid_segs = anno_dict['database'][vid]['annotations']\n",
    "    vid_len = anno_dict['database'][vid]['duration']\n",
    "    samp_rate = vid_len / 500\n",
    "    for segments in vid_segs:\n",
    "        start, end = segments['segment']\n",
    "        cap = segments['sentence']\n",
    "        start_fr = int(np.ceil(start / samp_rate))\n",
    "        end_fr = int(np.floor(end / samp_rate))\n",
    "        for frame_num in range(start_fr, end_fr + 1):\n",
    "            frame = vid_feat.iloc[frame_num]\n",
    "            all_frames.append(frame)\n",
    "            all_caps.append(cap)\n",
    "#             vid2cap[vid]['frames'].append(frame)\n",
    "#             vid2cap[vid]['cap'].append(cap)"
   ]
  },
  {
   "cell_type": "code",
   "execution_count": 102,
   "id": "31f59eb7",
   "metadata": {},
   "outputs": [],
   "source": [
    "def preprocess_captions(captions, window_size):\n",
    "    caps_ret = []\n",
    "    for i, caption in enumerate(captions):\n",
    "        # Taken from:\n",
    "        # https://towardsdatascience.com/image-captions-with-attention-in-tensorflow-step-by-step-927dad3569fa\n",
    "\n",
    "        # Convert the caption to lowercase, and then remove all special characters from it\n",
    "        caption_nopunct = re.sub(r\"[^a-zA-Z0-9]+\", ' ', caption.lower())\n",
    "      \n",
    "        # Split the caption into separate words, and collect all words which are more than \n",
    "        # one character and which contain only alphabets (ie. discard words with mixed alpha-numerics)\n",
    "        clean_words = [word for word in caption_nopunct.split() if ((len(word) > 1) and (word.isalpha()))]\n",
    "      \n",
    "        # Join those words into a string\n",
    "        caption_new = ['<start>'] + clean_words[:window_size-1] + ['<end>']\n",
    "      \n",
    "        # Replace the old caption in the captions list with this new cleaned caption\n",
    "        caps_ret.append(caption_new)\n",
    "    return caps_ret"
   ]
  },
  {
   "cell_type": "code",
   "execution_count": 105,
   "id": "40b7da3c",
   "metadata": {},
   "outputs": [],
   "source": [
    "clean_caps = preprocess_captions(all_caps, 20)"
   ]
  },
  {
   "cell_type": "code",
   "execution_count": 109,
   "id": "48a2d7dc",
   "metadata": {},
   "outputs": [],
   "source": [
    "word_count = collections.Counter()\n",
    "for caption in clean_caps:\n",
    "    word_count.update(caption)"
   ]
  },
  {
   "cell_type": "code",
   "execution_count": 111,
   "id": "97ab759d",
   "metadata": {},
   "outputs": [
    {
     "data": {
      "text/plain": [
       "[('<start>', 3650),\n",
       " ('<end>', 3650),\n",
       " ('the', 3130),\n",
       " ('and', 2438),\n",
       " ('on', 2204),\n",
       " ('bread', 1405),\n",
       " ('bacon', 1381),\n",
       " ('of', 1290),\n",
       " ('slices', 1093),\n",
       " ('top', 1037),\n",
       " ('place', 783),\n",
       " ('pan', 624),\n",
       " ('lettuce', 607),\n",
       " ('spread', 586),\n",
       " ('with', 571),\n",
       " ('some', 561),\n",
       " ('in', 514),\n",
       " ('tomato', 509),\n",
       " ('add', 469),\n",
       " ('slice', 426),\n",
       " ('mayonnaise', 388),\n",
       " ('put', 387),\n",
       " ('into', 356),\n",
       " ('toast', 305),\n",
       " ('fry', 291),\n",
       " ('tomatoes', 288),\n",
       " ('other', 285),\n",
       " ('to', 271),\n",
       " ('pieces', 260),\n",
       " ('cut', 251),\n",
       " ('cheese', 238),\n",
       " ('it', 236),\n",
       " ('take', 216),\n",
       " ('lemon', 215),\n",
       " ('oil', 209),\n",
       " ('sandwich', 207),\n",
       " ('side', 202),\n",
       " ('pepper', 201),\n",
       " ('salt', 195),\n",
       " ('half', 189),\n",
       " ('one', 187),\n",
       " ('cover', 178),\n",
       " ('mustard', 178),\n",
       " ('onto', 173),\n",
       " ('them', 171),\n",
       " ('chicken', 170),\n",
       " ('cook', 167),\n",
       " ('juice', 164),\n",
       " ('avocado', 163),\n",
       " ('dressing', 154)]"
      ]
     },
     "execution_count": 111,
     "metadata": {},
     "output_type": "execute_result"
    }
   ],
   "source": [
    "word_count.most_common(50)"
   ]
  },
  {
   "cell_type": "code",
   "execution_count": null,
   "id": "ece5b67b",
   "metadata": {},
   "outputs": [],
   "source": []
  }
 ],
 "metadata": {
  "kernelspec": {
   "display_name": "Python 3 (ipykernel)",
   "language": "python",
   "name": "python3"
  },
  "language_info": {
   "codemirror_mode": {
    "name": "ipython",
    "version": 3
   },
   "file_extension": ".py",
   "mimetype": "text/x-python",
   "name": "python",
   "nbconvert_exporter": "python",
   "pygments_lexer": "ipython3",
   "version": "3.9.12"
  }
 },
 "nbformat": 4,
 "nbformat_minor": 5
}
