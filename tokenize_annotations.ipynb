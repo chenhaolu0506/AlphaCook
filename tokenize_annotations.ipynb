{
 "cells": [
  {
   "cell_type": "code",
   "execution_count": 1,
   "id": "dba00286",
   "metadata": {},
   "outputs": [],
   "source": [
    "import json\n",
    "anno_path = \"./YouCookII/annotations/youcookii_annotations_trainval.json\""
   ]
  },
  {
   "cell_type": "code",
   "execution_count": 10,
   "id": "c2b6b0c5",
   "metadata": {},
   "outputs": [
    {
     "data": {
      "text/plain": [
       "{'duration': 241.62,\n",
       " 'subset': 'training',\n",
       " 'recipe_type': '113',\n",
       " 'annotations': [{'segment': [90, 102],\n",
       "   'id': 0,\n",
       "   'sentence': 'spread margarine on two slices of white bread'},\n",
       "  {'segment': [114, 127],\n",
       "   'id': 1,\n",
       "   'sentence': 'place a slice of cheese on the bread'},\n",
       "  {'segment': [132, 138],\n",
       "   'id': 2,\n",
       "   'sentence': 'place the bread slices on top of each other and place in a hot pan'},\n",
       "  {'segment': [139, 145],\n",
       "   'id': 3,\n",
       "   'sentence': 'flip the sandwich over and press down'},\n",
       "  {'segment': [173, 174],\n",
       "   'id': 4,\n",
       "   'sentence': 'cut the sandwich in half diagonally'}],\n",
       " 'video_url': 'https://www.youtube.com/watch?v=GLd3aX16zBg'}"
      ]
     },
     "execution_count": 10,
     "metadata": {},
     "output_type": "execute_result"
    }
   ],
   "source": [
    "f = open(anno_path, 'rb')\n",
    "anno_dict = json.load(f)\n",
    "anno_dict['database']['GLd3aX16zBg']"
   ]
  },
  {
   "cell_type": "markdown",
   "id": "216aa73f",
   "metadata": {},
   "source": [
    "[\"\\<start\\>\", \"ID: 0\", \"spread\", \"margarine\", \"on\", \"two\", ... \"ID: 1\", \"place\", \"a\", \"slice\", ... ,\"in\", \"half\", \"diagonally\", \"\\<end\\>\"]"
   ]
  },
  {
   "cell_type": "code",
   "execution_count": 30,
   "id": "1f26c3dc",
   "metadata": {},
   "outputs": [],
   "source": [
    "from collections import Counter\n",
    "\n",
    "word_count = Counter()\n",
    "recipe_wordToken_dict = dict()\n",
    "for recipeId, content in anno_dict[\"database\"].items():\n",
    "    token_list = [\"<start>\"]\n",
    "    for segmentIdx, segment in enumerate(content[\"annotations\"]):\n",
    "        token_list += [f\"ID: {segmentIdx}\"]\n",
    "        sentence = segment[\"sentence\"]\n",
    "        token_list += [w for w in sentence.split(\" \") if w]\n",
    "        \n",
    "    token_list += [\"<end>\"]\n",
    "    word_count.update(token_list)\n",
    "    \n",
    "    recipe_wordToken_dict[recipeId] = token_list"
   ]
  },
  {
   "cell_type": "code",
   "execution_count": 35,
   "id": "a585b207",
   "metadata": {},
   "outputs": [
    {
     "data": {
      "text/plain": [
       "[('the', 12582),\n",
       " ('and', 9832),\n",
       " ('add', 5507),\n",
       " ('to', 3793),\n",
       " ('a', 3333),\n",
       " ('in', 2824),\n",
       " ('pan', 2077),\n",
       " ('<start>', 1790),\n",
       " ('ID: 0', 1790),\n",
       " ('ID: 1', 1790),\n",
       " ('ID: 2', 1790),\n",
       " ('<end>', 1790),\n",
       " ('on', 1758),\n",
       " ('ID: 3', 1741),\n",
       " ('of', 1687),\n",
       " ('ID: 4', 1615),\n",
       " ('with', 1576),\n",
       " ('into', 1465),\n",
       " ('mix', 1460),\n",
       " ('oil', 1427)]"
      ]
     },
     "execution_count": 35,
     "metadata": {},
     "output_type": "execute_result"
    }
   ],
   "source": [
    "word_count.most_common()[:20]"
   ]
  },
  {
   "cell_type": "code",
   "execution_count": 34,
   "id": "36c5e34a",
   "metadata": {},
   "outputs": [
    {
     "data": {
      "text/plain": [
       "['<start>',\n",
       " 'ID: 0',\n",
       " 'spread',\n",
       " 'margarine',\n",
       " 'on',\n",
       " 'two',\n",
       " 'slices',\n",
       " 'of',\n",
       " 'white',\n",
       " 'bread',\n",
       " 'ID: 1',\n",
       " 'place',\n",
       " 'a',\n",
       " 'slice',\n",
       " 'of',\n",
       " 'cheese',\n",
       " 'on',\n",
       " 'the',\n",
       " 'bread',\n",
       " 'ID: 2',\n",
       " 'place',\n",
       " 'the',\n",
       " 'bread',\n",
       " 'slices',\n",
       " 'on',\n",
       " 'top',\n",
       " 'of',\n",
       " 'each',\n",
       " 'other',\n",
       " 'and',\n",
       " 'place',\n",
       " 'in',\n",
       " 'a',\n",
       " 'hot',\n",
       " 'pan',\n",
       " 'ID: 3',\n",
       " 'flip',\n",
       " 'the',\n",
       " 'sandwich',\n",
       " 'over',\n",
       " 'and',\n",
       " 'press',\n",
       " 'down',\n",
       " 'ID: 4',\n",
       " 'cut',\n",
       " 'the',\n",
       " 'sandwich',\n",
       " 'in',\n",
       " 'half',\n",
       " 'diagonally',\n",
       " '<end>']"
      ]
     },
     "execution_count": 34,
     "metadata": {},
     "output_type": "execute_result"
    }
   ],
   "source": [
    "recipe_wordToken_dict['GLd3aX16zBg']"
   ]
  }
 ],
 "metadata": {
  "kernelspec": {
   "display_name": "Python 3.9 (DL)",
   "language": "python",
   "name": "dl"
  },
  "language_info": {
   "codemirror_mode": {
    "name": "ipython",
    "version": 3
   },
   "file_extension": ".py",
   "mimetype": "text/x-python",
   "name": "python",
   "nbconvert_exporter": "python",
   "pygments_lexer": "ipython3",
   "version": "3.9.13"
  }
 },
 "nbformat": 4,
 "nbformat_minor": 5
}
